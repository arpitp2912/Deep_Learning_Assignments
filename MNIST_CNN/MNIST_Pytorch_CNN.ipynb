{
  "nbformat": 4,
  "nbformat_minor": 0,
  "metadata": {
    "colab": {
      "name": "MNIST_Pytorch_CNN.ipynb",
      "version": "0.3.2",
      "provenance": [],
      "collapsed_sections": [],
      "include_colab_link": true
    },
    "kernelspec": {
      "name": "python3",
      "display_name": "Python 3"
    },
    "accelerator": "GPU"
  },
  "cells": [
    {
      "cell_type": "markdown",
      "metadata": {
        "id": "view-in-github",
        "colab_type": "text"
      },
      "source": [
        "<a href=\"https://colab.research.google.com/github/arpitp2912/Deep_Learning_Assignments/blob/master/MNIST_CNN/MNIST_Pytorch_CNN.ipynb\" target=\"_parent\"><img src=\"https://colab.research.google.com/assets/colab-badge.svg\" alt=\"Open In Colab\"/></a>"
      ]
    },
    {
      "cell_type": "markdown",
      "metadata": {
        "id": "46G4qW3s49tQ",
        "colab_type": "text"
      },
      "source": [
        "## Convolutional Neural Network - MNIST Classification"
      ]
    },
    {
      "cell_type": "markdown",
      "metadata": {
        "id": "dEgxJ0Ln5fv0",
        "colab_type": "text"
      },
      "source": [
        "### Import Libraries"
      ]
    },
    {
      "cell_type": "code",
      "metadata": {
        "id": "ZxuyiCA1n89a",
        "colab_type": "code",
        "colab": {}
      },
      "source": [
        "import numpy as np \n",
        "import pandas as pd \n",
        "import torch\n",
        "\n",
        "from torch import nn\n",
        "import torch.nn.functional as F\n",
        "from torchvision import datasets,transforms"
      ],
      "execution_count": 0,
      "outputs": []
    },
    {
      "cell_type": "code",
      "metadata": {
        "id": "QPIDtK_In-Mo",
        "colab_type": "code",
        "outputId": "ac1795e6-4451-4f62-cc6e-5932e352db28",
        "colab": {
          "base_uri": "https://localhost:8080/",
          "height": 34
        }
      },
      "source": [
        "# Check if GPU is available\n",
        "\n",
        "train_on_gpu = torch.cuda.is_available()\n",
        "\n",
        "if not train_on_gpu:\n",
        "    print('GPU is not available.')\n",
        "else:\n",
        "    print('GPU is available')"
      ],
      "execution_count": 3,
      "outputs": [
        {
          "output_type": "stream",
          "text": [
            "GPU is available\n"
          ],
          "name": "stdout"
        }
      ]
    },
    {
      "cell_type": "markdown",
      "metadata": {
        "id": "yFa7WQkm6HzY",
        "colab_type": "text"
      },
      "source": [
        "### Loading Datasets"
      ]
    },
    {
      "cell_type": "code",
      "metadata": {
        "id": "o4QXjjgJn-XF",
        "colab_type": "code",
        "outputId": "f1acb3cd-845e-4047-f013-9c5998e367da",
        "colab": {
          "base_uri": "https://localhost:8080/",
          "height": 255
        }
      },
      "source": [
        "transform=transforms.Compose([transforms.ToTensor(),transforms.Normalize((0.1307,), (0.3081,))])\n",
        "trainset=datasets.MNIST('~/.pytorch/MNIST_data/',train=True,transform=transform,download=True)\n",
        "validset=datasets.MNIST('~/.pytorch/MNIST_data/',train=False,transform=transform,download=True)\n",
        "\n",
        "train_loader=torch.utils.data.DataLoader(trainset,batch_size=64,shuffle=True,num_workers=0)\n",
        "valid_loader=torch.utils.data.DataLoader(validset,batch_size=64,shuffle=True,num_workers=0)"
      ],
      "execution_count": 0,
      "outputs": [
        {
          "output_type": "stream",
          "text": [
            "\r0it [00:00, ?it/s]"
          ],
          "name": "stderr"
        },
        {
          "output_type": "stream",
          "text": [
            "Downloading http://yann.lecun.com/exdb/mnist/train-images-idx3-ubyte.gz to /root/.pytorch/MNIST_data/MNIST/raw/train-images-idx3-ubyte.gz\n"
          ],
          "name": "stdout"
        },
        {
          "output_type": "stream",
          "text": [
            "9920512it [00:02, 4020668.32it/s]                             \n"
          ],
          "name": "stderr"
        },
        {
          "output_type": "stream",
          "text": [
            "Extracting /root/.pytorch/MNIST_data/MNIST/raw/train-images-idx3-ubyte.gz\n"
          ],
          "name": "stdout"
        },
        {
          "output_type": "stream",
          "text": [
            "\r0it [00:00, ?it/s]"
          ],
          "name": "stderr"
        },
        {
          "output_type": "stream",
          "text": [
            "Downloading http://yann.lecun.com/exdb/mnist/train-labels-idx1-ubyte.gz to /root/.pytorch/MNIST_data/MNIST/raw/train-labels-idx1-ubyte.gz\n"
          ],
          "name": "stdout"
        },
        {
          "output_type": "stream",
          "text": [
            "32768it [00:00, 67848.17it/s]                            \n",
            "0it [00:00, ?it/s]"
          ],
          "name": "stderr"
        },
        {
          "output_type": "stream",
          "text": [
            "Extracting /root/.pytorch/MNIST_data/MNIST/raw/train-labels-idx1-ubyte.gz\n",
            "Downloading http://yann.lecun.com/exdb/mnist/t10k-images-idx3-ubyte.gz to /root/.pytorch/MNIST_data/MNIST/raw/t10k-images-idx3-ubyte.gz\n"
          ],
          "name": "stdout"
        },
        {
          "output_type": "stream",
          "text": [
            "1654784it [00:01, 1131413.45it/s]                            \n",
            "0it [00:00, ?it/s]"
          ],
          "name": "stderr"
        },
        {
          "output_type": "stream",
          "text": [
            "Extracting /root/.pytorch/MNIST_data/MNIST/raw/t10k-images-idx3-ubyte.gz\n",
            "Downloading http://yann.lecun.com/exdb/mnist/t10k-labels-idx1-ubyte.gz to /root/.pytorch/MNIST_data/MNIST/raw/t10k-labels-idx1-ubyte.gz\n"
          ],
          "name": "stdout"
        },
        {
          "output_type": "stream",
          "text": [
            "8192it [00:00, 25639.61it/s]            "
          ],
          "name": "stderr"
        },
        {
          "output_type": "stream",
          "text": [
            "Extracting /root/.pytorch/MNIST_data/MNIST/raw/t10k-labels-idx1-ubyte.gz\n",
            "Processing...\n",
            "Done!\n"
          ],
          "name": "stdout"
        },
        {
          "output_type": "stream",
          "text": [
            "\n"
          ],
          "name": "stderr"
        }
      ]
    },
    {
      "cell_type": "markdown",
      "metadata": {
        "id": "sPs8koZi6Ng8",
        "colab_type": "text"
      },
      "source": [
        "### Define CNN Architecture"
      ]
    },
    {
      "cell_type": "code",
      "metadata": {
        "id": "udrllnBrn-cP",
        "colab_type": "code",
        "outputId": "e3cc8b81-f113-45fd-8382-c3f7a983c319",
        "colab": {
          "base_uri": "https://localhost:8080/",
          "height": 136
        }
      },
      "source": [
        "class Net(nn.Module):\n",
        "    def __init__(self):\n",
        "        super(Net, self).__init__()\n",
        "        # First Convolutional layer with 10 filters of size 3\n",
        "        self.conv1 = nn.Conv2d(1, 10, 3, 1)\n",
        "        \n",
        "        # Second Convolutional layer with 15 filters of size 3\n",
        "        self.conv2 = nn.Conv2d(10, 15, 3, 1)\n",
        "        \n",
        "        # Fully-Connected Layers\n",
        "        self.fc1 = nn.Linear(5*5*15, 50)\n",
        "        self.dropout1 = nn.Dropout(0.25)\n",
        "        self.fc2 = nn.Linear(50, 10)\n",
        "\n",
        "    def forward(self, x):\n",
        "        # Apply ReLU activation on convolutional layers\n",
        "        x = F.relu(self.conv1(x))\n",
        "        # Apply Max pooling\n",
        "        x = F.max_pool2d(x, 2)\n",
        "        x = F.relu(self.conv2(x))\n",
        "        x = F.max_pool2d(x, 2)\n",
        "        x = x.view(-1, 5*5*15)\n",
        "        x = F.relu(self.fc1(x))\n",
        "        x = self.dropout1(x)\n",
        "        x = self.fc2(x)\n",
        "        return F.log_softmax(x, dim=1)\n",
        "      \n",
        "      \n",
        "# create a complete CNN\n",
        "model = Net()\n",
        "print(model)\n",
        "\n",
        "# move tensors to GPU if CUDA is available\n",
        "if train_on_gpu:\n",
        "    model.cuda()"
      ],
      "execution_count": 0,
      "outputs": [
        {
          "output_type": "stream",
          "text": [
            "Net(\n",
            "  (conv1): Conv2d(1, 10, kernel_size=(3, 3), stride=(1, 1))\n",
            "  (conv2): Conv2d(10, 15, kernel_size=(3, 3), stride=(1, 1))\n",
            "  (fc1): Linear(in_features=375, out_features=50, bias=True)\n",
            "  (dropout1): Dropout(p=0.25)\n",
            "  (fc2): Linear(in_features=50, out_features=10, bias=True)\n",
            ")\n"
          ],
          "name": "stdout"
        }
      ]
    },
    {
      "cell_type": "markdown",
      "metadata": {
        "id": "LxiIdHPZ683G",
        "colab_type": "text"
      },
      "source": [
        "**Total No. of Parameters in the Network**"
      ]
    },
    {
      "cell_type": "code",
      "metadata": {
        "id": "55PNt3A6n-iQ",
        "colab_type": "code",
        "outputId": "1bc06bb8-a52d-4201-8c99-1e8f39b188dc",
        "colab": {
          "base_uri": "https://localhost:8080/",
          "height": 51
        }
      },
      "source": [
        "pytorch_total_params = sum(p.numel() for p in model.parameters())\n",
        "print(\"Total_params\",pytorch_total_params)\n",
        "pytorch_total_params = sum(p.numel() for p in model.parameters() if p.requires_grad)\n",
        "print(\"Trainable_params\",pytorch_total_params)"
      ],
      "execution_count": 0,
      "outputs": [
        {
          "output_type": "stream",
          "text": [
            "Total_params 20775\n",
            "Trainable_params 20775\n"
          ],
          "name": "stdout"
        }
      ]
    },
    {
      "cell_type": "markdown",
      "metadata": {
        "id": "wIfiTxjD7Heu",
        "colab_type": "text"
      },
      "source": [
        "### Define Loss Function and Optimizer"
      ]
    },
    {
      "cell_type": "code",
      "metadata": {
        "id": "q34sbw2Mn-pv",
        "colab_type": "code",
        "colab": {}
      },
      "source": [
        "import torch.optim as optim\n",
        "criterion = nn.NLLLoss()\n",
        "\n",
        "# specify optimizer\n",
        "optimizer = optim.SGD(model.parameters(), lr=0.01)"
      ],
      "execution_count": 0,
      "outputs": []
    },
    {
      "cell_type": "markdown",
      "metadata": {
        "id": "RAGJN-Ot-tSR",
        "colab_type": "text"
      },
      "source": [
        "### Train the Model"
      ]
    },
    {
      "cell_type": "code",
      "metadata": {
        "id": "-dmn_EYPn-wG",
        "colab_type": "code",
        "outputId": "a33e4d02-2670-4337-f165-d2f0f2559583",
        "colab": {
          "base_uri": "https://localhost:8080/",
          "height": 340
        }
      },
      "source": [
        "# Number of epochs to train the model\n",
        "n_epochs = 10\n",
        "\n",
        "valid_loss_min = np.Inf # Track change in validation loss\n",
        "\n",
        "for epoch in range(1, n_epochs+1):\n",
        "\n",
        "    # Track of training and validation loss\n",
        "    train_loss = 0.0\n",
        "    valid_loss = 0.0\n",
        "    \n",
        "    # Model Training\n",
        "    model.train()\n",
        "    for data, target in train_loader:\n",
        "        # Move tensors to GPU if CUDA is available\n",
        "        if train_on_gpu:\n",
        "            data, target = data.cuda(), target.cuda()\n",
        "            \n",
        "        # Clear the gradients of all optimized variables\n",
        "        optimizer.zero_grad()\n",
        "        \n",
        "        # Forward pass: compute predicted outputs by passing inputs to the model\n",
        "        output = model(data)\n",
        "        \n",
        "        # Calculate the batch loss\n",
        "        loss = criterion(output, target)\n",
        "        \n",
        "        # Backward pass: compute gradient of the loss with respect to model parameters\n",
        "        loss.backward()\n",
        "        \n",
        "        # Perform a single optimization step (parameter update)\n",
        "        optimizer.step()\n",
        "        \n",
        "        # Ipdate training loss\n",
        "        train_loss += loss.item()*data.size(0)\n",
        "        \n",
        "    # Model Evaluation\n",
        "    model.eval()\n",
        "    for data, target in valid_loader:\n",
        "        # Move tensors to GPU if CUDA is available\n",
        "        if train_on_gpu:\n",
        "            data, target = data.cuda(), target.cuda()\n",
        "        # Forward pass: compute predicted outputs by passing inputs to the model\n",
        "        output = model(data)\n",
        "        # Calculate the batch loss\n",
        "        loss = criterion(output, target)\n",
        "        # Update average validation loss \n",
        "        valid_loss += loss.item()*data.size(0)\n",
        "    \n",
        "    # Calculate average losses\n",
        "    train_loss = train_loss/len(train_loader.sampler)\n",
        "    valid_loss = valid_loss/len(valid_loader.sampler)\n",
        "        \n",
        "    # Print training/validation statistics \n",
        "    print('Epoch: {} \\tTraining Loss: {:.6f} \\tValidation Loss: {:.6f}'.format(\n",
        "        epoch, train_loss, valid_loss))\n",
        "    \n",
        "    # Save model if validation loss has decreased\n",
        "    if valid_loss <= valid_loss_min:\n",
        "        print('Validation loss decreased ({:.6f} --> {:.6f}).  Saving model ...'.format(\n",
        "        valid_loss_min,\n",
        "        valid_loss))\n",
        "        torch.save(model.state_dict(), 'model_mnist.pt')\n",
        "        valid_loss_min = valid_loss"
      ],
      "execution_count": 0,
      "outputs": [
        {
          "output_type": "stream",
          "text": [
            "Epoch: 1 \tTraining Loss: 0.954072 \tValidation Loss: 0.338915\n",
            "Validation loss decreased (inf --> 0.338915).  Saving model ...\n",
            "Epoch: 2 \tTraining Loss: 0.355702 \tValidation Loss: 0.243871\n",
            "Validation loss decreased (0.338915 --> 0.243871).  Saving model ...\n",
            "Epoch: 3 \tTraining Loss: 0.246100 \tValidation Loss: 0.141469\n",
            "Validation loss decreased (0.243871 --> 0.141469).  Saving model ...\n",
            "Epoch: 4 \tTraining Loss: 0.194155 \tValidation Loss: 0.111442\n",
            "Validation loss decreased (0.141469 --> 0.111442).  Saving model ...\n",
            "Epoch: 5 \tTraining Loss: 0.160212 \tValidation Loss: 0.104872\n",
            "Validation loss decreased (0.111442 --> 0.104872).  Saving model ...\n",
            "Epoch: 6 \tTraining Loss: 0.141925 \tValidation Loss: 0.081309\n",
            "Validation loss decreased (0.104872 --> 0.081309).  Saving model ...\n",
            "Epoch: 7 \tTraining Loss: 0.128147 \tValidation Loss: 0.076264\n",
            "Validation loss decreased (0.081309 --> 0.076264).  Saving model ...\n",
            "Epoch: 8 \tTraining Loss: 0.119253 \tValidation Loss: 0.067575\n",
            "Validation loss decreased (0.076264 --> 0.067575).  Saving model ...\n",
            "Epoch: 9 \tTraining Loss: 0.106974 \tValidation Loss: 0.068296\n",
            "Epoch: 10 \tTraining Loss: 0.099077 \tValidation Loss: 0.064583\n",
            "Validation loss decreased (0.067575 --> 0.064583).  Saving model ...\n"
          ],
          "name": "stdout"
        }
      ]
    },
    {
      "cell_type": "markdown",
      "metadata": {
        "id": "TuL9Wjtp-yT4",
        "colab_type": "text"
      },
      "source": [
        "### Model Testing"
      ]
    },
    {
      "cell_type": "code",
      "metadata": {
        "id": "Nc6YgRPt9z6M",
        "colab_type": "code",
        "colab": {}
      },
      "source": [
        "# specify the image classes\n",
        "classes = ['0', '1', '2', '3', '4',\n",
        "           '5', '6', '7', '8', '9']"
      ],
      "execution_count": 0,
      "outputs": []
    },
    {
      "cell_type": "code",
      "metadata": {
        "id": "T9wEqEBB99qr",
        "colab_type": "code",
        "outputId": "d94a97b4-cf3c-4549-9dca-2066faf7fbd1",
        "colab": {
          "base_uri": "https://localhost:8080/",
          "height": 255
        }
      },
      "source": [
        "batch_size=16\n",
        "\n",
        "# track test loss\n",
        "test_loss = 0.0\n",
        "class_correct = list(0. for i in range(10))\n",
        "class_total = list(0. for i in range(10))\n",
        "\n",
        "model.eval()\n",
        "# iterate over test data\n",
        "for data, target in valid_loader:\n",
        "  \n",
        "    # move tensors to GPU if CUDA is available\n",
        "    if train_on_gpu:\n",
        "        data, target = data.cuda(), target.cuda()\n",
        "        \n",
        "    # forward pass: compute predicted outputs by passing inputs to the model\n",
        "    output = model(data)\n",
        "    \n",
        "    # calculate the batch loss\n",
        "    loss = criterion(output, target)\n",
        "    \n",
        "    # update test loss \n",
        "    test_loss += loss.item()*data.size(0)\n",
        "    \n",
        "    # convert output probabilities to predicted class\n",
        "    _, pred = torch.max(output, 1)  \n",
        "    \n",
        "    # compare predictions to true label\n",
        "    correct_tensor = pred.eq(target.data.view_as(pred))\n",
        "    correct = np.squeeze(correct_tensor.numpy()) if not train_on_gpu else np.squeeze(correct_tensor.cpu().numpy())\n",
        "    \n",
        "    # calculate test accuracy for each object class\n",
        "    for i in range(batch_size):\n",
        "        label = target.data[i]\n",
        "        class_correct[label] += correct[i].item()\n",
        "        class_total[label] += 1\n",
        "\n",
        "# average test loss\n",
        "test_loss = test_loss/len(valid_loader.dataset)\n",
        "print('Test Loss: {:.6f}\\n'.format(test_loss))\n",
        "\n",
        "for i in range(10):\n",
        "    if class_total[i] > 0:\n",
        "        print('Test Accuracy of %5s: %2d%% (%2d/%2d)' % (\n",
        "            classes[i], 100 * class_correct[i] / class_total[i],\n",
        "            np.sum(class_correct[i]), np.sum(class_total[i])))\n",
        "    else:\n",
        "        print('Test Accuracy of %5s: N/A (no training examples)' % (classes[i]))\n",
        "\n",
        "print('\\nTest Accuracy (Overall): %2d%% (%2d/%2d)' % (\n",
        "    100. * np.sum(class_correct) / np.sum(class_total),\n",
        "    np.sum(class_correct), np.sum(class_total)))"
      ],
      "execution_count": 0,
      "outputs": [
        {
          "output_type": "stream",
          "text": [
            "Test Loss: 0.064583\n",
            "\n",
            "Test Accuracy of     0: 97% (229/234)\n",
            "Test Accuracy of     1: 99% (280/281)\n",
            "Test Accuracy of     2: 98% (259/263)\n",
            "Test Accuracy of     3: 97% (239/246)\n",
            "Test Accuracy of     4: 99% (271/273)\n",
            "Test Accuracy of     5: 98% (224/228)\n",
            "Test Accuracy of     6: 98% (225/229)\n",
            "Test Accuracy of     7: 97% (251/257)\n",
            "Test Accuracy of     8: 96% (242/250)\n",
            "Test Accuracy of     9: 96% (243/251)\n",
            "\n",
            "Test Accuracy (Overall): 98% (2463/2512)\n"
          ],
          "name": "stdout"
        }
      ]
    },
    {
      "cell_type": "markdown",
      "metadata": {
        "id": "wPAY1pO6-Vgc",
        "colab_type": "text"
      },
      "source": [
        "**We have achieved accuracy of 98% with 20775 trainable parameters**"
      ]
    }
  ]
}