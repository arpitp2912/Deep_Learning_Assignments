{
  "nbformat": 4,
  "nbformat_minor": 0,
  "metadata": {
    "colab": {
      "name": "Numpy_Implementation_Neural_Network.ipynb",
      "version": "0.3.2",
      "provenance": [],
      "include_colab_link": true
    },
    "kernelspec": {
      "name": "python3",
      "display_name": "Python 3"
    }
  },
  "cells": [
    {
      "cell_type": "markdown",
      "metadata": {
        "id": "view-in-github",
        "colab_type": "text"
      },
      "source": [
        "<a href=\"https://colab.research.google.com/github/arpitp2912/Deep_Learning_Assignments/blob/master/Numpy_Implementation/Numpy_Implementation_Neural_Network.ipynb\" target=\"_parent\"><img src=\"https://colab.research.google.com/assets/colab-badge.svg\" alt=\"Open In Colab\"/></a>"
      ]
    },
    {
      "cell_type": "markdown",
      "metadata": {
        "id": "gebB_qBJMGGv",
        "colab_type": "text"
      },
      "source": [
        "## Numpy Implementation of 1 Hidden Layer Neural Network"
      ]
    },
    {
      "cell_type": "markdown",
      "metadata": {
        "id": "_vvTLJsFNBpk",
        "colab_type": "text"
      },
      "source": [
        "Let’s say we have a problem where we want to predict output given a set of inputs and outputs as training example like:"
      ]
    },
    {
      "cell_type": "markdown",
      "metadata": {
        "id": "wH8l5mWvH6Ll",
        "colab_type": "text"
      },
      "source": [
        "| Input 1 | Input 2 | Input 3 | Output\n",
        "| --- | --- | --- | --- |\n",
        "| 0 | 1 | 1 | 1\n",
        "| 1 | 0 | 0 | 0\n",
        "| 1 | 0 | 1 | 1\n"
      ]
    },
    {
      "cell_type": "markdown",
      "metadata": {
        "id": "PcVQMLsDOVJk",
        "colab_type": "text"
      },
      "source": [
        "Now, we want to predict the output  of the inputs : **[1,0,1]**"
      ]
    },
    {
      "cell_type": "markdown",
      "metadata": {
        "id": "gszMdT0yNKSA",
        "colab_type": "text"
      },
      "source": [
        "The training process consists of the following steps:\n",
        "\n",
        "\n",
        "*   **Forward Propagation:**\n",
        "\n",
        "> Take the inputs, multiply by the weights (just use random numbers as weights)\n",
        "Let Y = WiIi = W1I1+W2I2+W3I3\n",
        "Pass the result through a sigmoid formula to calculate the neuron’s output. The Sigmoid function is used to normalise the result between 0 and 1:\n",
        "1/1 + e-y\n",
        "\n",
        "\n",
        "*  **Back Propagation**\n",
        "\n",
        "> Calculate the error i.e the difference between the actual output and the expected output. Depending on the error, adjust the weights by multiplying the error with the input and again with the gradient of the Sigmoid curve:\n",
        "Weight += Error Input Output (1-Output) ,here Output (1-Output) is derivative of sigmoid curve.\n"
      ]
    },
    {
      "cell_type": "code",
      "metadata": {
        "id": "GltVFkOEGT32",
        "colab_type": "code",
        "colab": {}
      },
      "source": [
        "# Import Library\n",
        "import numpy as np"
      ],
      "execution_count": 0,
      "outputs": []
    },
    {
      "cell_type": "code",
      "metadata": {
        "id": "yTV0LrZ1Hw0D",
        "colab_type": "code",
        "outputId": "18705c41-4ce3-48dd-bc99-07b6dc6fc501",
        "colab": {
          "base_uri": "https://localhost:8080/",
          "height": 85
        }
      },
      "source": [
        "class NeuralNet(object):\n",
        "    def __init__(self):\n",
        "      # Assign random weights to a 3 x 1 matrix\n",
        "      self.synaptic_weights = 2 * random.random((3, 1)) - 1\n",
        "\n",
        "    # The Sigmoid function\n",
        "    def __sigmoid(self, x):\n",
        "        return 1 / (1 + exp(-x))\n",
        "\n",
        "    # The Gradient of Sigmoid function.\n",
        "    def __sigmoid_derivative(self, x):\n",
        "        return x * (1 - x)\n",
        "\n",
        "    # Train the neural network and adjust the weights each time.\n",
        "    def train(self, inputs, outputs, training_iterations):\n",
        "        for iteration in range(training_iterations):\n",
        "        \n",
        "            # Pass the training set through the network.\n",
        "            output = self.learn(inputs)\n",
        "\n",
        "            # Calculate the error\n",
        "            error = outputs - output\n",
        "\n",
        "            # Adjust the weights\n",
        "            adjustment = dot(inputs.T, error * self.__sigmoid_derivative(output))\n",
        "            self.synaptic_weights += adjustment\n",
        "\n",
        "    # Learning of Neural Network\n",
        "    def learn(self, inputs):\n",
        "        return self.__sigmoid(dot(inputs, self.synaptic_weights))\n",
        "\n",
        "\n",
        "if __name__ == \"__main__\":\n",
        "\n",
        "    #Initialize the network\n",
        "    neural_network = NeuralNet()\n",
        "    \n",
        "    # The training set.\n",
        "    inputs = array([[0, 1, 1], [1, 0, 0], [1, 0, 1]])\n",
        "    outputs = array([[1, 0, 1]]).T\n",
        "    \n",
        "    # Train the network (10 epochs)\n",
        "    neural_network.train(inputs, outputs, 10)\n",
        "\n",
        "    # Test the neural network with a test example.\n",
        "    print('Result after 10 epochs: ',neural_network.learn(array([1, 0, 1])))\n",
        "    \n",
        "    # Train the network (100 epochs)\n",
        "    neural_network.train(inputs, outputs, 100)\n",
        "\n",
        "    # Test the neural network with a test example.\n",
        "    print('Result after 100 epochs: ',neural_network.learn(array([1, 0, 1])))\n",
        "    \n",
        "    # Train the network (1000 epochs)\n",
        "    neural_network.train(inputs, outputs, 1000)\n",
        "\n",
        "    # Test the neural network with a test example.\n",
        "    print('Result after 1000 epochs: ',neural_network.learn(array([1, 0, 1])))\n",
        "    \n",
        "    # Train the network (10000 epochs)\n",
        "    neural_network.train(inputs, outputs, 10000)\n",
        "\n",
        "    # Test the neural network with a test example.\n",
        "    print('Result after 10000 epochs: ',neural_network.learn(array([1, 0, 1])))\n",
        "\n"
      ],
      "execution_count": 0,
      "outputs": [
        {
          "output_type": "stream",
          "text": [
            "Result after 10 epochs:  [0.63290706]\n",
            "Result after 100 epochs:  [0.88349355]\n",
            "Result after 1000 epochs:  [0.96781691]\n",
            "Result after 10000 epochs:  [0.99030646]\n"
          ],
          "name": "stdout"
        }
      ]
    },
    {
      "cell_type": "markdown",
      "metadata": {
        "id": "mvAhOAVJPB1t",
        "colab_type": "text"
      },
      "source": [
        "**Results:**\n",
        "\n",
        "> After 10 iteration, our network predicts the value to be 0.632. It does not look good as the asnwer should be 1.\n",
        "\n",
        "\n",
        "\n",
        "> If we increase the number of iterations to 100, we get 0.88349355. Our network is getting smarter! Subsequently, for 10000 iterations we get 0.99030646 which is pretty close and indeed a satisfactory output."
      ]
    }
  ]
}